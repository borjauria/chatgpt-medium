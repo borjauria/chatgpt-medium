{
 "cells": [
  {
   "cell_type": "code",
   "execution_count": 1,
   "id": "71a5f4f5-0024-4abb-8060-50d01f97ffc8",
   "metadata": {},
   "outputs": [],
   "source": [
    "path = '../prompts/prompt_python.txt'"
   ]
  },
  {
   "cell_type": "code",
   "execution_count": 3,
   "id": "cd226bdd-a2c6-41ff-b467-5c47191b7dec",
   "metadata": {},
   "outputs": [
    {
     "name": "stdout",
     "output_type": "stream",
     "text": [
      "You are a Python language specialist and will only answer Python related questions. If you are asked a \n",
      "question that has nothing to do with Python, you cannot answer it.\n",
      "\n"
     ]
    }
   ],
   "source": [
    "with open(path) as file:\n",
    "    print(file.read())"
   ]
  },
  {
   "cell_type": "code",
   "execution_count": 4,
   "id": "cc83d3c8-8551-4b35-8aeb-0c8ab9fa0ef0",
   "metadata": {},
   "outputs": [],
   "source": [
    "content = './prompts/prompt_python.txt'"
   ]
  },
  {
   "cell_type": "code",
   "execution_count": 18,
   "id": "ffe31f6a-0249-4d1a-981b-118da049d9e8",
   "metadata": {},
   "outputs": [
    {
     "data": {
      "text/plain": [
       "'python'"
      ]
     },
     "execution_count": 18,
     "metadata": {},
     "output_type": "execute_result"
    }
   ],
   "source": [
    "language = content.split('/')[-1].split('_')[-1].split('.')[0]\n",
    "language"
   ]
  },
  {
   "cell_type": "code",
   "execution_count": null,
   "id": "831f5f0d-4c01-45f8-8e04-37aabbeef1ab",
   "metadata": {},
   "outputs": [],
   "source": []
  }
 ],
 "metadata": {
  "kernelspec": {
   "display_name": "Python [conda env:openai_env] *",
   "language": "python",
   "name": "conda-env-openai_env-py"
  },
  "language_info": {
   "codemirror_mode": {
    "name": "ipython",
    "version": 3
   },
   "file_extension": ".py",
   "mimetype": "text/x-python",
   "name": "python",
   "nbconvert_exporter": "python",
   "pygments_lexer": "ipython3",
   "version": "3.11.4"
  }
 },
 "nbformat": 4,
 "nbformat_minor": 5
}
